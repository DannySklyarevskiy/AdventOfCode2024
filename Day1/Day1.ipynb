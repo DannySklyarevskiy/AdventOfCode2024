{
 "cells": [
  {
   "cell_type": "code",
   "id": "initial_id",
   "metadata": {
    "collapsed": true,
    "ExecuteTime": {
     "end_time": "2024-12-02T05:30:43.458003Z",
     "start_time": "2024-12-02T05:30:43.447417Z"
    }
   },
   "source": [
    "from numpy import genfromtxt\n",
    "\n",
    "data = genfromtxt(\"input.txt\", delimiter=\"   \").T\n",
    "first_row = data[0]\n",
    "second_row = data[1]\n",
    "\n",
    "first_row_sorted = sorted(first_row)\n",
    "second_row_sorted = sorted(second_row)\n",
    "\n",
    "final_diffs = 0\n",
    "for i in range(len(first_row_sorted)):\n",
    "    final_diffs += abs(first_row_sorted[i] - second_row_sorted[i])\n",
    "    \n",
    "print(int(final_diffs))"
   ],
   "outputs": [
    {
     "name": "stdout",
     "output_type": "stream",
     "text": [
      "1579939\n"
     ]
    }
   ],
   "execution_count": 13
  },
  {
   "metadata": {
    "ExecuteTime": {
     "end_time": "2024-12-02T05:30:43.587350Z",
     "start_time": "2024-12-02T05:30:43.460029Z"
    }
   },
   "cell_type": "code",
   "source": [
    "final_diffs = 0\n",
    "result_map = dict()\n",
    "\n",
    "for i in range(len(first_row)):\n",
    "    num = first_row[i]\n",
    "    if num not in result_map.keys():\n",
    "        result_map[num] = 0\n",
    "        for j in range(len(second_row)):\n",
    "            if num == second_row[j]:\n",
    "                result_map[num] += num\n",
    "    final_diffs += result_map[num]        \n",
    "\n",
    "print(int(final_diffs))"
   ],
   "id": "a874eb7a05474c4a",
   "outputs": [
    {
     "name": "stdout",
     "output_type": "stream",
     "text": [
      "20351745\n"
     ]
    }
   ],
   "execution_count": 14
  },
  {
   "metadata": {},
   "cell_type": "code",
   "outputs": [],
   "execution_count": null,
   "source": "",
   "id": "6cf486c6d46b8626"
  }
 ],
 "metadata": {
  "kernelspec": {
   "display_name": "Python 3",
   "language": "python",
   "name": "python3"
  },
  "language_info": {
   "codemirror_mode": {
    "name": "ipython",
    "version": 2
   },
   "file_extension": ".py",
   "mimetype": "text/x-python",
   "name": "python",
   "nbconvert_exporter": "python",
   "pygments_lexer": "ipython2",
   "version": "2.7.6"
  }
 },
 "nbformat": 4,
 "nbformat_minor": 5
}
