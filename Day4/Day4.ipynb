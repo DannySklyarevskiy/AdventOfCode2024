{
 "cells": [
  {
   "cell_type": "code",
   "id": "initial_id",
   "metadata": {
    "collapsed": true,
    "ExecuteTime": {
     "end_time": "2024-12-06T19:26:49.382220Z",
     "start_time": "2024-12-06T19:26:49.296931Z"
    }
   },
   "source": [
    "def check_if_mas(char2, char3, char4):\n",
    "    return char2==\"M\" and char3==\"A\" and char4==\"S\"\n",
    "\n",
    "data = open(\"input4.txt\", 'r')\n",
    "word_search_board = [[]]\n",
    "line_index = 0\n",
    "\n",
    "for line in data:\n",
    "    for char in line.strip():\n",
    "        word_search_board[line_index].append(char)\n",
    "    word_search_board.append([])\n",
    "    line_index += 1\n",
    "\n",
    "max_row = len(word_search_board) - 1\n",
    "max_col = len(word_search_board[0])\n",
    "xmas_count = 0\n",
    "for i in range(max_row):\n",
    "    for j in range(max_col):\n",
    "        if word_search_board[i][j] == 'X':\n",
    "            up_in_range, left_in_range, down_in_range, right_in_range = False, False, False, False\n",
    "            #if statements for every possible way to make xmas\n",
    "            if i - 3 >= 0:\n",
    "                up_in_range = True\n",
    "                if check_if_mas(word_search_board[i-1][j], word_search_board[i-2][j], word_search_board[i-3][j]): \n",
    "                    xmas_count += 1\n",
    "            if j - 3 >= 0:\n",
    "                left_in_range = True\n",
    "                if check_if_mas(word_search_board[i][j-1], word_search_board[i][j-2], word_search_board[i][j-3]): \n",
    "                    xmas_count += 1\n",
    "            if i + 4 <= max_row:\n",
    "                down_in_range = True\n",
    "                if check_if_mas(word_search_board[i+1][j], word_search_board[i+2][j], word_search_board[i+3][j]): \n",
    "                    xmas_count += 1\n",
    "            if j + 4 <= max_col:\n",
    "                right_in_range = True\n",
    "                if check_if_mas(word_search_board[i][j+1], word_search_board[i][j+2], word_search_board[i][j+3]): \n",
    "                    xmas_count += 1\n",
    "            if left_in_range and up_in_range:\n",
    "                if check_if_mas(word_search_board[i-1][j-1], word_search_board[i-2][j-2], word_search_board[i-3][j-3]): \n",
    "                    xmas_count += 1\n",
    "            if right_in_range and up_in_range:\n",
    "                if check_if_mas(word_search_board[i-1][j+1], word_search_board[i-2][j+2], word_search_board[i-3][j+3]): \n",
    "                    xmas_count += 1\n",
    "            if left_in_range and down_in_range:\n",
    "                if check_if_mas(word_search_board[i+1][j-1], word_search_board[i+2][j-2], word_search_board[i+3][j-3]): \n",
    "                    xmas_count += 1\n",
    "            if right_in_range and down_in_range:\n",
    "                if check_if_mas(word_search_board[i+1][j+1], word_search_board[i+2][j+2], word_search_board[i+3][j+3]): \n",
    "                    xmas_count += 1\n",
    "print(xmas_count)"
   ],
   "outputs": [
    {
     "name": "stdout",
     "output_type": "stream",
     "text": [
      "2336\n"
     ]
    }
   ],
   "execution_count": 64
  },
  {
   "metadata": {
    "ExecuteTime": {
     "end_time": "2024-12-06T19:26:49.900166Z",
     "start_time": "2024-12-06T19:26:49.846885Z"
    }
   },
   "cell_type": "code",
   "source": [
    "xmas_count = 0\n",
    "for i in range(max_row - 2):\n",
    "    for j in range(max_col - 2):\n",
    "        first_half_mas, second_half_mas = False, False\n",
    "        if check_if_mas(word_search_board[i][j], word_search_board[i+1][j+1], word_search_board[i+2][j+2]) or check_if_mas(word_search_board[i+2][j+2], word_search_board[i+1][j+1], word_search_board[i][j]):\n",
    "            first_half_mas = True\n",
    "        if check_if_mas(word_search_board[i][j+2], word_search_board[i+1][j+1], word_search_board[i+2][j]) or check_if_mas(word_search_board[i+2][j], word_search_board[i+1][j+1], word_search_board[i][j+2]):\n",
    "            second_half_mas = True\n",
    "        if first_half_mas and second_half_mas:\n",
    "            xmas_count += 1\n",
    "print(xmas_count)"
   ],
   "id": "85f59bc5f3ebd44b",
   "outputs": [
    {
     "name": "stdout",
     "output_type": "stream",
     "text": [
      "1831\n"
     ]
    }
   ],
   "execution_count": 65
  },
  {
   "metadata": {},
   "cell_type": "code",
   "outputs": [],
   "execution_count": null,
   "source": "",
   "id": "5855789712a2bd43"
  }
 ],
 "metadata": {
  "kernelspec": {
   "display_name": "Python 3",
   "language": "python",
   "name": "python3"
  },
  "language_info": {
   "codemirror_mode": {
    "name": "ipython",
    "version": 2
   },
   "file_extension": ".py",
   "mimetype": "text/x-python",
   "name": "python",
   "nbconvert_exporter": "python",
   "pygments_lexer": "ipython2",
   "version": "2.7.6"
  }
 },
 "nbformat": 4,
 "nbformat_minor": 5
}
