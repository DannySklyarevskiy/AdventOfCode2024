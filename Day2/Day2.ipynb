{
 "cells": [
  {
   "metadata": {
    "ExecuteTime": {
     "end_time": "2024-12-06T06:00:55.770034Z",
     "start_time": "2024-12-06T06:00:55.757276Z"
    }
   },
   "cell_type": "code",
   "source": [
    "def valid_num_diff(num1, num2):\n",
    "    return abs(num1-num2) < 4 and (abs(num1-num2) > 0)\n",
    "\n",
    "def go_through_row(row, tolerance):\n",
    "    for i in range(len(row)):\n",
    "        row[i] = int(row[i])\n",
    "    row_safe = True\n",
    "    is_increasing = True\n",
    "    safe_buffers = set()\n",
    "    \n",
    "    if not len(row) < 1:\n",
    "        if row[0]>row[1]:\n",
    "            is_increasing = False\n",
    "        for j in range(len(row) - 1):\n",
    "            num1 = row[j]\n",
    "            num2 = row[j+1]\n",
    "            if not valid_num_diff(num1, num2) or (is_increasing and num1 > num2) or (not is_increasing and num1 < num2):\n",
    "                row_safe = False\n",
    "            if tolerance:\n",
    "                safe_buffers.add(j)\n",
    "                safe_buffers.add(j+1)\n",
    "        if tolerance and not row_safe:\n",
    "            for buffer in safe_buffers:\n",
    "                temp = row.copy()\n",
    "                row.pop(buffer)\n",
    "                row_safe = go_through_row(row, False)\n",
    "                row = temp\n",
    "                if row_safe is True:\n",
    "                    return True\n",
    "        if row_safe:\n",
    "            return True\n",
    "    return False\n",
    "\n",
    "data = open('input2.txt', 'r')\n",
    "safe_rows = 0\n",
    "for line in data:\n",
    "    if go_through_row(line.strip().split(' '), False): safe_rows += 1\n",
    "\n",
    "print(safe_rows)"
   ],
   "id": "777b9843b8b33250",
   "outputs": [
    {
     "name": "stdout",
     "output_type": "stream",
     "text": [
      "526\n"
     ]
    }
   ],
   "execution_count": 39
  },
  {
   "metadata": {
    "ExecuteTime": {
     "end_time": "2024-12-06T06:00:57.075368Z",
     "start_time": "2024-12-06T06:00:57.058729Z"
    }
   },
   "cell_type": "code",
   "source": [
    "data = open('input2.txt', 'r')\n",
    "safe_rows = 0\n",
    "for line in data:\n",
    "    if go_through_row(line.strip().split(' '), True): safe_rows += 1\n",
    "\n",
    "print(safe_rows)"
   ],
   "id": "1ee0d4ab67125b4",
   "outputs": [
    {
     "name": "stdout",
     "output_type": "stream",
     "text": [
      "566\n"
     ]
    }
   ],
   "execution_count": 40
  },
  {
   "metadata": {
    "ExecuteTime": {
     "end_time": "2024-12-06T06:01:18.170052Z",
     "start_time": "2024-12-06T06:01:18.149720Z"
    }
   },
   "cell_type": "code",
   "source": [
    "# OG, ugly solution for part 2\n",
    "# data = open('input2.txt', 'r')\n",
    "# safe_rows = 0\n",
    "# for line in data:\n",
    "#     row = line.strip().split(' ')\n",
    "#     for i in range(len(row)):\n",
    "#         row[i] = int(row[i])\n",
    "#     row_safe = True\n",
    "#     is_increasing = True\n",
    "# \n",
    "#     bad_indexes = set()\n",
    "# \n",
    "#     if not len(row) < 1:\n",
    "#         if row[0]>row[1]:\n",
    "#             is_increasing = False\n",
    "#         for j in range(len(row) - 1):\n",
    "#             num1 = row[j]\n",
    "#             num2 = row[j+1]\n",
    "#             if not valid_num_diff(num1, num2) or (is_increasing and num1 > num2) or (not is_increasing and num1 < num2):\n",
    "#                 row_safe = False\n",
    "#             bad_indexes.add(j)\n",
    "#             bad_indexes.add(j+1)\n",
    "#         if not row_safe:\n",
    "#             for index in bad_indexes:\n",
    "#                 temp = row.copy()\n",
    "#                 row.pop(index)\n",
    "#                 row_safe = True\n",
    "#                 is_increasing = True\n",
    "#                 if not len(row) < 1:\n",
    "#                     if row[0]>row[1]:\n",
    "#                         is_increasing = False\n",
    "#                     for j in range(len(row) - 1):\n",
    "#                         num1 = row[j]\n",
    "#                         num2 = row[j+1]\n",
    "#                         if not valid_num_diff(num1, num2) or (is_increasing and num1 > num2) or (not is_increasing and num1 < num2):\n",
    "#                             row_safe = False\n",
    "#                             row = temp\n",
    "#                             break\n",
    "#                 if row_safe is True:\n",
    "#                     break\n",
    "#                 row = temp\n",
    "#         if row_safe:\n",
    "#             safe_rows += 1\n",
    "# \n",
    "# print(safe_rows)"
   ],
   "id": "44cd248feb9c68e8",
   "outputs": [
    {
     "name": "stdout",
     "output_type": "stream",
     "text": [
      "566\n"
     ]
    }
   ],
   "execution_count": 41
  },
  {
   "metadata": {
    "ExecuteTime": {
     "end_time": "2024-12-06T05:35:28.815690Z",
     "start_time": "2024-12-06T05:35:28.811219Z"
    }
   },
   "cell_type": "code",
   "source": "",
   "id": "6cf486c6d46b8626",
   "outputs": [],
   "execution_count": 2
  }
 ],
 "metadata": {
  "kernelspec": {
   "display_name": "Python 3",
   "language": "python",
   "name": "python3"
  },
  "language_info": {
   "codemirror_mode": {
    "name": "ipython",
    "version": 2
   },
   "file_extension": ".py",
   "mimetype": "text/x-python",
   "name": "python",
   "nbconvert_exporter": "python",
   "pygments_lexer": "ipython2",
   "version": "2.7.6"
  }
 },
 "nbformat": 4,
 "nbformat_minor": 5
}
