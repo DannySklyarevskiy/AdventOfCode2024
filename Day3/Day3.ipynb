{
 "cells": [
  {
   "cell_type": "code",
   "id": "initial_id",
   "metadata": {
    "collapsed": true,
    "ExecuteTime": {
     "end_time": "2024-12-06T06:23:58.124938Z",
     "start_time": "2024-12-06T06:23:58.089795Z"
    }
   },
   "source": [
    "def check_if_valid(start_index):\n",
    "    current_index = start_index\n",
    "    num1 = ''\n",
    "    num2 = ''\n",
    "    \n",
    "    #For edge cases like mul(,5)\n",
    "    if final_string[current_index].isnumeric():\n",
    "        num1 += final_string[current_index]\n",
    "    current_index += 1\n",
    "    \n",
    "    while final_string[current_index] != ',':\n",
    "        current_char = final_string[current_index]\n",
    "        if current_char.isnumeric():\n",
    "            num1 += final_string[current_index]\n",
    "            current_index+= 1\n",
    "        else:\n",
    "            return False\n",
    "    #Go past , char\n",
    "    current_index += 1\n",
    "    \n",
    "    #For edge cases like mul(5,)\n",
    "    if final_string[current_index].isnumeric():\n",
    "        num2 += final_string[current_index]\n",
    "    current_index += 1\n",
    "    \n",
    "    while final_string[current_index] != ')':\n",
    "        current_char = final_string[current_index]\n",
    "        if current_char.isnumeric():\n",
    "            num2 += final_string[current_index]\n",
    "            current_index+= 1\n",
    "        else:\n",
    "            return False\n",
    "    return int(num1)*int(num2)\n",
    "\n",
    "data = open('input3.txt', 'r')\n",
    "final_string = \"\"\n",
    "for line in data:\n",
    "    final_string += line.strip()\n",
    "\n",
    "final_sum = 0\n",
    "for i in range(len(final_string)-8):\n",
    "    if final_string[i:i+4] == \"mul(\":\n",
    "        if check_if_valid(i+4): final_sum += check_if_valid(i+4)\n",
    "        \n",
    "print(final_sum)"
   ],
   "outputs": [
    {
     "name": "stdout",
     "output_type": "stream",
     "text": [
      "169021493\n"
     ]
    }
   ],
   "execution_count": 26
  },
  {
   "metadata": {
    "ExecuteTime": {
     "end_time": "2024-12-06T06:27:18.435470Z",
     "start_time": "2024-12-06T06:27:18.417014Z"
    }
   },
   "cell_type": "code",
   "source": [
    "final_sum = 0\n",
    "mul_enabled = True\n",
    "for i in range(len(final_string)-8):\n",
    "    if final_string[i:i+4] == \"do()\":\n",
    "        mul_enabled = True\n",
    "    if final_string[i:i+7] == \"don't()\":\n",
    "        mul_enabled = False\n",
    "    if mul_enabled and final_string[i:i+4] == \"mul(\":\n",
    "        if check_if_valid(i+4): final_sum += check_if_valid(i+4)\n",
    "        \n",
    "print(final_sum)"
   ],
   "id": "7a9b63775617003c",
   "outputs": [
    {
     "name": "stdout",
     "output_type": "stream",
     "text": [
      "111762583\n"
     ]
    }
   ],
   "execution_count": 27
  },
  {
   "metadata": {},
   "cell_type": "code",
   "outputs": [],
   "execution_count": null,
   "source": "",
   "id": "18e4dcff21b65587"
  }
 ],
 "metadata": {
  "kernelspec": {
   "display_name": "Python 3",
   "language": "python",
   "name": "python3"
  },
  "language_info": {
   "codemirror_mode": {
    "name": "ipython",
    "version": 2
   },
   "file_extension": ".py",
   "mimetype": "text/x-python",
   "name": "python",
   "nbconvert_exporter": "python",
   "pygments_lexer": "ipython2",
   "version": "2.7.6"
  }
 },
 "nbformat": 4,
 "nbformat_minor": 5
}
